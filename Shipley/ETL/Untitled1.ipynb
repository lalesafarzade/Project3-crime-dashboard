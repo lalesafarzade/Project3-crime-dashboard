{
 "cells": [
  {
   "cell_type": "code",
   "execution_count": null,
   "metadata": {},
   "outputs": [],
   "source": [
    "#ivitaJrGS1x1mX4Qb75CE53gSXuPuto6Kf2YXuC1PoGMsZnoTzt7S9rXaZIQ7CqO"
   ]
  },
  {
   "cell_type": "code",
   "execution_count": null,
   "metadata": {},
   "outputs": [],
   "source": [
    "ivitaJrGS1x1mX4Qb75CE53gSXuPuto6Kf2YXuC1PoGMsZnoTzt7S9rXaZIQ7CqO"
   ]
  },
  {
   "cell_type": "code",
   "execution_count": 4,
   "metadata": {},
   "outputs": [
    {
     "name": "stdout",
     "output_type": "stream",
     "text": [
      "{\"document\":{\"_id\":\"624ba13c2abb6256265aeb12\"}}\n"
     ]
    }
   ],
   "source": [
    "import requests\n",
    "import json\n",
    "url = \"https://data.mongodb-api.com/app/data-yvusg/endpoint/data/beta/action/findOne\"\n",
    "\n",
    "payload = json.dumps({\n",
    "    \"collection\": \"crime_info\",\n",
    "    \"database\": \"crime_db\",\n",
    "    \"dataSource\": \"Cluster0\",\n",
    "    \"projection\": {\n",
    "        \"_id\": 1\n",
    "    }\n",
    "})\n",
    "headers = {\n",
    "    'Content-Type': 'application/json',\n",
    "    'Access-Control-Request-Headers': '*',\n",
    "    'api-key': 'ivitaJrGS1x1mX4Qb75CE53gSXuPuto6Kf2YXuC1PoGMsZnoTzt7S9rXaZIQ7CqO'\n",
    "}\n",
    "\n",
    "response = requests.request(\"POST\", url, headers=headers, data=payload)\n",
    "\n",
    "print(response.text)\n"
   ]
  },
  {
   "cell_type": "code",
   "execution_count": 5,
   "metadata": {},
   "outputs": [
    {
     "name": "stdout",
     "output_type": "stream",
     "text": [
      "{\"document\":{\"_id\":\"624e3dfb8947716dd35fc87d\"}}\n"
     ]
    }
   ],
   "source": [
    "import requests\n",
    "import json\n",
    "url = \"https://data.mongodb-api.com/app/data-yvusg/endpoint/data/beta/action/findOne\"\n",
    "\n",
    "payload = json.dumps({\n",
    "    \"collection\": \"npu\",\n",
    "    \"database\": \"crime_db_2\",\n",
    "    \"dataSource\": \"Cluster0\",\n",
    "    \"projection\": {\n",
    "        \"_id\": 1\n",
    "    }\n",
    "})\n",
    "headers = {\n",
    "    'Content-Type': 'application/json',\n",
    "    'Access-Control-Request-Headers': '*',\n",
    "    'api-key': 'bvPF5IDCISoLArd9AGQSJW0Rc134wES2TfpFI7FR8SJK6oDWdfN8f4lUHRAVQWqU'\n",
    "}\n",
    "\n",
    "response = requests.request(\"POST\", url, headers=headers, data=payload)\n",
    "\n",
    "print(response.text)\n"
   ]
  },
  {
   "cell_type": "code",
   "execution_count": null,
   "metadata": {},
   "outputs": [],
   "source": []
  }
 ],
 "metadata": {
  "kernelspec": {
   "display_name": "Python [conda env:.conda-PythonData] *",
   "language": "python",
   "name": "conda-env-.conda-PythonData-py"
  },
  "language_info": {
   "codemirror_mode": {
    "name": "ipython",
    "version": 3
   },
   "file_extension": ".py",
   "mimetype": "text/x-python",
   "name": "python",
   "nbconvert_exporter": "python",
   "pygments_lexer": "ipython3",
   "version": "3.6.10"
  }
 },
 "nbformat": 4,
 "nbformat_minor": 4
}

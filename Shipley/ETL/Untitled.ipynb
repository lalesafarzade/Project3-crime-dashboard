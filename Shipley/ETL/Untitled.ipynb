{
 "cells": [
  {
   "cell_type": "code",
   "execution_count": 1,
   "metadata": {},
   "outputs": [
    {
     "name": "stdout",
     "output_type": "stream",
     "text": [
      "{\"error\":\"invalid session: error finding user for endpoint\",\"error_code\":\"InvalidSession\",\"link\":\"https://realm.mongodb.com/groups/624a46fe23c8387f5f072dc6/apps/624bae888ec6c93962ce6057/logs?co_id=624e688726e55d694ab4c4f6\"}\n"
     ]
    }
   ],
   "source": [
    "import requests\n",
    "import json\n",
    "url = \"https://data.mongodb-api.com/app/data-yvusg/endpoint/data/beta/action/findOne\"\n",
    "\n",
    "payload = json.dumps({\n",
    "    \"collection\": \"npu\",\n",
    "    \"database\": \"crime_db_2\",\n",
    "    \"dataSource\": \"Cluster0\",\n",
    "    \"projection\": {\n",
    "        \"_id\": 1\n",
    "    }\n",
    "})\n",
    "headers = {\n",
    "    'Content-Type': 'application/json',\n",
    "    'Access-Control-Request-Headers': '*',\n",
    "    'api-key': '<API_KEY>'\n",
    "}\n",
    "\n",
    "response = requests.request(\"POST\", url, headers=headers, data=payload)\n",
    "\n",
    "print(response.text)\n"
   ]
  },
  {
   "cell_type": "code",
   "execution_count": 2,
   "metadata": {},
   "outputs": [
    {
     "name": "stdout",
     "output_type": "stream",
     "text": [
      "{\"error\":\"invalid session: error finding user for endpoint\",\"error_code\":\"InvalidSession\",\"link\":\"https://realm.mongodb.com/groups/624a46fe23c8387f5f072dc6/apps/624bae888ec6c93962ce6057/logs?co_id=624e68ed26e55d694ab4e83d\"}\n"
     ]
    }
   ],
   "source": [
    "import requests\n",
    "import json\n",
    "url = \"https://data.mongodb-api.com/app/data-yvusg/endpoint/data/beta/action/findOne\"\n",
    "\n",
    "payload = json.dumps({\n",
    "    \"collection\": \"crime_info\",\n",
    "    \"database\": \"crime_db\",\n",
    "    \"dataSource\": \"Cluster0\",\n",
    "    \"projection\": {\n",
    "        \"_id\": 1\n",
    "    }\n",
    "})\n",
    "headers = {\n",
    "    'Content-Type': 'application/json',\n",
    "    'Access-Control-Request-Headers': '*',\n",
    "    'api-key': '<API_KEY>'\n",
    "}\n",
    "\n",
    "response = requests.request(\"POST\", url, headers=headers, data=payload)\n",
    "\n",
    "print(response.text)\n"
   ]
  },
  {
   "cell_type": "code",
   "execution_count": null,
   "metadata": {},
   "outputs": [],
   "source": []
  }
 ],
 "metadata": {
  "kernelspec": {
   "display_name": "Python [conda env:.conda-PythonData] *",
   "language": "python",
   "name": "conda-env-.conda-PythonData-py"
  },
  "language_info": {
   "codemirror_mode": {
    "name": "ipython",
    "version": 3
   },
   "file_extension": ".py",
   "mimetype": "text/x-python",
   "name": "python",
   "nbconvert_exporter": "python",
   "pygments_lexer": "ipython3",
   "version": "3.6.10"
  }
 },
 "nbformat": 4,
 "nbformat_minor": 4
}

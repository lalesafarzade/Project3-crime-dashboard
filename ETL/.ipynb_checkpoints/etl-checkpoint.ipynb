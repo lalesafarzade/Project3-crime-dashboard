{
 "cells": [
  {
   "cell_type": "markdown",
   "id": "c569d6c7",
   "metadata": {},
   "source": [
    "# ETL"
   ]
  },
  {
   "cell_type": "markdown",
   "id": "50091f68",
   "metadata": {},
   "source": [
    "### Importing Libraries"
   ]
  },
  {
   "cell_type": "code",
   "execution_count": 1,
   "id": "2556733f",
   "metadata": {},
   "outputs": [],
   "source": [
    "import zipfile\n",
    "import pandas as pd\n",
    "import missingno as msno \n",
    "import warnings\n",
    "warnings.filterwarnings(\"ignore\")\n",
    "import pymongo\n",
    "from geopy.geocoders import Nominatim\n",
    "import datetime\n",
    "from bs4 import BeautifulSoup\n",
    "from webdriver_manager.chrome import ChromeDriverManager\n",
    "import pandas as pd\n",
    "import ssl\n",
    "import certifi\n",
    "from urllib import request as req\n",
    "import requests\n",
    "from config import myconnection\n",
    "from sqlalchemy import create_engine\n",
    "import sqlite3\n",
    "import pandas as pd\n",
    "\n",
    "from pymongo import MongoClient "
   ]
  },
  {
   "cell_type": "code",
   "execution_count": 2,
   "id": "da1668bf",
   "metadata": {},
   "outputs": [],
   "source": [
    "ssl._create_default_https_context = ssl._create_unverified_context"
   ]
  },
  {
   "cell_type": "markdown",
   "id": "795fd62a",
   "metadata": {},
   "source": [
    "## DATA EXTRACTING"
   ]
  },
  {
   "cell_type": "code",
   "execution_count": 3,
   "id": "f1dde15a",
   "metadata": {},
   "outputs": [],
   "source": [
    "def data_scraper(url,html_part='div',id='widget_362_0_197'):\n",
    "    response = requests.get(url)\n",
    "    soup = BeautifulSoup(response.text, 'html.parser')\n",
    "    quotes = soup.find_all(html_part, id=id)  \n",
    "    lis=quotes[0].find_all('li')\n",
    "    Download_url=[]\n",
    "    for li in lis:\n",
    "        link=li.find(\"a\")\n",
    "        href=link[\"href\"]\n",
    "        Download_url.append(\"https://www.atlantapd.org\"+href)\n",
    "        for i in range(len(Download_url)):\n",
    "            try:\n",
    "                local_file = f'resources/cobra{i}.zip'\n",
    "                req.urlretrieve(Download_url[i], local_file)\n",
    "            except:\n",
    "                print(\"something is wrong :( \")\n",
    "                \n",
    "    return Download_url\n",
    "\n",
    "#Download_url=data_scraper('https://www.atlantapd.org/i-want-to/crime-data-downloads')"
   ]
  },
  {
   "cell_type": "markdown",
   "id": "840b17eb",
   "metadata": {},
   "source": [
    "## Reading CSV files"
   ]
  },
  {
   "cell_type": "code",
   "execution_count": 4,
   "id": "b6d59520",
   "metadata": {},
   "outputs": [
    {
     "data": {
      "text/html": [
       "<div>\n",
       "<style scoped>\n",
       "    .dataframe tbody tr th:only-of-type {\n",
       "        vertical-align: middle;\n",
       "    }\n",
       "\n",
       "    .dataframe tbody tr th {\n",
       "        vertical-align: top;\n",
       "    }\n",
       "\n",
       "    .dataframe thead th {\n",
       "        text-align: right;\n",
       "    }\n",
       "</style>\n",
       "<table border=\"1\" class=\"dataframe\">\n",
       "  <thead>\n",
       "    <tr style=\"text-align: right;\">\n",
       "      <th></th>\n",
       "      <th>offense_id</th>\n",
       "      <th>rpt_date</th>\n",
       "      <th>occur_date</th>\n",
       "      <th>occur_day</th>\n",
       "      <th>occur_day_num</th>\n",
       "      <th>occur_time</th>\n",
       "      <th>poss_date</th>\n",
       "      <th>poss_time</th>\n",
       "      <th>beat</th>\n",
       "      <th>zone</th>\n",
       "      <th>location</th>\n",
       "      <th>ibr_code</th>\n",
       "      <th>UC2_Literal</th>\n",
       "      <th>neighborhood</th>\n",
       "      <th>npu</th>\n",
       "      <th>lat</th>\n",
       "      <th>long</th>\n",
       "    </tr>\n",
       "  </thead>\n",
       "  <tbody>\n",
       "    <tr>\n",
       "      <th>0</th>\n",
       "      <td>203140048</td>\n",
       "      <td>2/21/2022</td>\n",
       "      <td>11/9/2020</td>\n",
       "      <td>Monday</td>\n",
       "      <td>2.0</td>\n",
       "      <td>00:32</td>\n",
       "      <td>11/9/2020</td>\n",
       "      <td>01:49</td>\n",
       "      <td>409</td>\n",
       "      <td>4</td>\n",
       "      <td>2111 CAMPBELLTON RD SW\\nATLANTA, GA 30311\\nUNI...</td>\n",
       "      <td>13A</td>\n",
       "      <td>AGG ASSAULT</td>\n",
       "      <td>Adams Park</td>\n",
       "      <td>R</td>\n",
       "      <td>33.706526</td>\n",
       "      <td>-84.458000</td>\n",
       "    </tr>\n",
       "    <tr>\n",
       "      <th>1</th>\n",
       "      <td>203421469</td>\n",
       "      <td>2/27/2022</td>\n",
       "      <td>12/7/2020</td>\n",
       "      <td>Monday</td>\n",
       "      <td>2.0</td>\n",
       "      <td>19:43</td>\n",
       "      <td>12/7/2020</td>\n",
       "      <td>20:26</td>\n",
       "      <td>405</td>\n",
       "      <td>4</td>\n",
       "      <td>150 PEYTON PL SW\\nATLANTA, GA 30311\\nUNITED ST...</td>\n",
       "      <td>23B</td>\n",
       "      <td>LARCENY-NON VEHICLE</td>\n",
       "      <td>Harland Terrace</td>\n",
       "      <td>I</td>\n",
       "      <td>33.750613</td>\n",
       "      <td>-84.473202</td>\n",
       "    </tr>\n",
       "  </tbody>\n",
       "</table>\n",
       "</div>"
      ],
      "text/plain": [
       "   offense_id   rpt_date occur_date occur_day  occur_day_num occur_time  \\\n",
       "0   203140048  2/21/2022  11/9/2020    Monday            2.0      00:32   \n",
       "1   203421469  2/27/2022  12/7/2020    Monday            2.0      19:43   \n",
       "\n",
       "   poss_date poss_time  beat  zone  \\\n",
       "0  11/9/2020     01:49   409     4   \n",
       "1  12/7/2020     20:26   405     4   \n",
       "\n",
       "                                            location ibr_code  \\\n",
       "0  2111 CAMPBELLTON RD SW\\nATLANTA, GA 30311\\nUNI...      13A   \n",
       "1  150 PEYTON PL SW\\nATLANTA, GA 30311\\nUNITED ST...      23B   \n",
       "\n",
       "           UC2_Literal     neighborhood npu        lat       long  \n",
       "0          AGG ASSAULT       Adams Park   R  33.706526 -84.458000  \n",
       "1  LARCENY-NON VEHICLE  Harland Terrace   I  33.750613 -84.473202  "
      ]
     },
     "execution_count": 4,
     "metadata": {},
     "output_type": "execute_result"
    }
   ],
   "source": [
    "dfs=[pd.read_csv(f'resources/cobra{i}.zip',compression='zip') for i in range(5)]\n",
    "dfs[0].head(2)"
   ]
  },
  {
   "cell_type": "markdown",
   "id": "01b55565",
   "metadata": {},
   "source": [
    "## DATA TRANSFORMING"
   ]
  },
  {
   "cell_type": "markdown",
   "id": "eb783479",
   "metadata": {},
   "source": [
    "### Keeping specific columns and Droppping unnecessary columns"
   ]
  },
  {
   "cell_type": "code",
   "execution_count": 5,
   "id": "d2ef62e3",
   "metadata": {},
   "outputs": [],
   "source": [
    "dfs[0]=dfs[0][['offense_id', 'rpt_date', 'occur_date','occur_time', 'poss_date', 'poss_time', 'beat', \n",
    "               'location', 'UC2_Literal', 'neighborhood', 'npu', 'lat', 'long']]\n",
    "\n",
    "dfs[1]=dfs[1][['offense_id', 'rpt_date', 'occur_date','occur_time', 'poss_date', 'poss_time', 'beat', \n",
    "               'location','UC2_Literal', 'neighborhood', 'npu', 'lat', 'long']]\n",
    "\n",
    "dfs[2]=dfs[2][['offense_id', 'rpt_date', 'occur_date', 'occur_time', 'poss_date','poss_time', 'beat', \n",
    "                'location', 'UC2_Literal', 'neighborhood', 'npu', 'long', 'lat']]\n",
    "\n",
    "dfs[3]=dfs[3][['offense_id', 'rpt_date', 'occur_date', 'occur_time', 'poss_date','poss_time', 'beat', \n",
    "                'location', 'UC2_Literal','neighborhood', 'npu', 'lat', 'long']]\n",
    "\n",
    "dfs[4]=dfs[4][['Report Number', 'Report Date', 'Occur Date', 'Occur Time','Possible Date', 'Possible Time', 'Beat', \n",
    "               'Location','UCR Literal', 'Neighborhood', 'NPU', 'Latitude','Longitude']]"
   ]
  },
  {
   "cell_type": "markdown",
   "id": "78975edb",
   "metadata": {},
   "source": [
    "### Columns reordering and making the same name"
   ]
  },
  {
   "cell_type": "code",
   "execution_count": 6,
   "id": "a32133f0",
   "metadata": {},
   "outputs": [],
   "source": [
    "dfs[0].columns=['offense_id', 'rpt_date', 'occur_date','occur_time', 'poss_date', 'poss_time', 'beat', \n",
    "               'location', 'UC2_Literal', 'neighborhood', 'npu', 'lat', 'long']\n",
    "dfs[1].columns=['offense_id', 'rpt_date', 'occur_date','occur_time', 'poss_date', 'poss_time', 'beat', \n",
    "               'location', 'UC2_Literal', 'neighborhood', 'npu', 'lat', 'long']\n",
    "dfs[2].columns=['offense_id', 'rpt_date', 'occur_date','occur_time', 'poss_date', 'poss_time', 'beat', \n",
    "               'location', 'UC2_Literal', 'neighborhood', 'npu', 'long', 'lat']\n",
    "dfs[2]=dfs[2].reindex(['offense_id', 'rpt_date', 'occur_date','occur_time', 'poss_date', 'poss_time', 'beat', \n",
    "               'location', 'UC2_Literal', 'neighborhood', 'npu', 'lat', 'long'], axis=1)\n",
    "\n",
    "dfs[3].columns=['offense_id', 'rpt_date', 'occur_date','occur_time', 'poss_date', 'poss_time', 'beat', \n",
    "               'location', 'UC2_Literal', 'neighborhood', 'npu',  'lat', 'long']\n",
    "dfs[4].columns=['offense_id', 'rpt_date', 'occur_date','occur_time', 'poss_date', 'poss_time', 'beat', \n",
    "               'location', 'UC2_Literal', 'neighborhood', 'npu',  'lat', 'long']"
   ]
  },
  {
   "cell_type": "markdown",
   "id": "7a324786",
   "metadata": {},
   "source": [
    "### dropping the issued values"
   ]
  },
  {
   "cell_type": "code",
   "execution_count": 7,
   "id": "19cb13bb",
   "metadata": {},
   "outputs": [],
   "source": [
    "values=[\"0220-11-01\",\"1010-10-30\",\"220-11-01\",\"0202-12-02\"]\n",
    "years=[1916, 1920, 1970, 1973, 1976, 1979, 1980, 1991, 1993, 2000, 2001,\n",
    "           2003, 2004, 2005, 2006, 2007, 2008]\n",
    "dfs[2]= dfs[2][dfs[2].occur_date.isin(values) == False]\n",
    "dfs[2]= dfs[2][dfs[2].poss_date.isin(values) == False]\n",
    "dfs[4]= dfs[4][dfs[4].occur_time!= \"T\"]\n"
   ]
  },
  {
   "cell_type": "markdown",
   "id": "0d439124",
   "metadata": {},
   "source": [
    "### Changing the date column to datetime format"
   ]
  },
  {
   "cell_type": "code",
   "execution_count": 8,
   "id": "2a3cec8b",
   "metadata": {},
   "outputs": [],
   "source": [
    "\n",
    "for i in range(5):\n",
    "    dfs[i][\"occur_date\"]=pd.to_datetime(dfs[i][\"occur_date\"])\n",
    "    dfs[i][\"occur_year\"]=dfs[i][\"occur_date\"].dt.year\n",
    "    dfs[i][\"occur_month\"]=dfs[i][\"occur_date\"].dt.month_name()\n"
   ]
  },
  {
   "cell_type": "code",
   "execution_count": 9,
   "id": "9e71b137",
   "metadata": {},
   "outputs": [],
   "source": [
    "for i in range(5):\n",
    "    dfs[i][\"poss_date\"]=pd.to_datetime(dfs[i][\"poss_date\"])\n"
   ]
  },
  {
   "cell_type": "markdown",
   "id": "764370cb",
   "metadata": {},
   "source": [
    "### Concanating dataframes"
   ]
  },
  {
   "cell_type": "code",
   "execution_count": 10,
   "id": "5acb00b4",
   "metadata": {},
   "outputs": [],
   "source": [
    "df=pd.concat([dfs[0], dfs[1],dfs[2],dfs[3],dfs[4]])"
   ]
  },
  {
   "cell_type": "code",
   "execution_count": 11,
   "id": "36f0ae8a",
   "metadata": {},
   "outputs": [
    {
     "data": {
      "text/plain": [
       "<AxesSubplot:>"
      ]
     },
     "execution_count": 11,
     "metadata": {},
     "output_type": "execute_result"
    },
    {
     "data": {
      "image/png": "[encoded data removed]",
      "text/plain": [
       "<Figure size 1800x720 with 2 Axes>"
      ]
     },
     "metadata": {
      "needs_background": "light"
     },
     "output_type": "display_data"
    }
   ],
   "source": [
    "msno.matrix(df)"
   ]
  },
  {
   "cell_type": "markdown",
   "id": "f381677f",
   "metadata": {},
   "source": [
    "### Dropping null values and Duplicate values"
   ]
  },
  {
   "cell_type": "code",
   "execution_count": 12,
   "id": "bef27ef1",
   "metadata": {},
   "outputs": [
    {
     "data": {
      "text/plain": [
       "177"
      ]
     },
     "execution_count": 12,
     "metadata": {},
     "output_type": "execute_result"
    }
   ],
   "source": [
    "#checking duplicate row \n",
    "df.duplicated().sum()"
   ]
  },
  {
   "cell_type": "code",
   "execution_count": 13,
   "id": "87d202cc",
   "metadata": {},
   "outputs": [],
   "source": [
    "#drop duplicate value\n",
    "df.drop_duplicates(inplace=True)"
   ]
  },
  {
   "cell_type": "code",
   "execution_count": 14,
   "id": "744b97bd",
   "metadata": {},
   "outputs": [
    {
     "data": {
      "text/plain": [
       "331"
      ]
     },
     "execution_count": 14,
     "metadata": {},
     "output_type": "execute_result"
    }
   ],
   "source": [
    "#checking duplicate row \n",
    "df.duplicated(subset=['offense_id']).sum()"
   ]
  },
  {
   "cell_type": "code",
   "execution_count": 15,
   "id": "9d05e280",
   "metadata": {},
   "outputs": [],
   "source": [
    "#drop duplicate value\n",
    "df.drop_duplicates(inplace=True,subset=['offense_id'])"
   ]
  },
  {
   "cell_type": "code",
   "execution_count": 16,
   "id": "10f7bec3",
   "metadata": {},
   "outputs": [],
   "source": [
    "#drop null value\n",
    "df.dropna(inplace=True)"
   ]
  },
  {
   "cell_type": "code",
   "execution_count": 17,
   "id": "c350f3f2",
   "metadata": {},
   "outputs": [],
   "source": [
    "#Convert all occur_time to same format\n",
    "\n",
    "#Convert to string\n",
    "df['occur_time'] = df['occur_time'].astype('str')\n",
    "#Take out minutes\n",
    "df['occur_time_right'] = df['occur_time'].str[-2:]\n",
    "#Take out the hour and possibly the \":\"\n",
    "df['occur_time_left'] = df['occur_time'].str[:-2]\n",
    "#Remove \":\"\n",
    "df['occur_time_left'] = df['occur_time_left'].str.replace(\":\", \"\")\n",
    "#Add leading zeros\n",
    "df['occur_time_left'] = df['occur_time_left'].apply(lambda x: x.zfill(2))\n",
    "#Combine hours + \":\" + minutes\n",
    "df['occur_time'] = df['occur_time_left']+\":\"+df['occur_time_right']\n",
    "#Drop columns\n",
    "df = df.drop(columns = ['occur_time_left', 'occur_time_right'])\n",
    "\n",
    "#Convert all poss_time to same format\n",
    "\n",
    "#Split on \".\" and take the left half to convert float to integer\n",
    "df['poss_time'] = df['poss_time'].astype('str').str.split(\".\", expand=True)[0]\n",
    "df['poss_time_right'] = df['poss_time'].str[-2:]\n",
    "df['poss_time_left'] = df['poss_time'].str[:-2]\n",
    "df['poss_time_left'] = df['poss_time_left'].str.replace(\":\", \"\")\n",
    "df['poss_time_left'] = df['poss_time_left'].apply(lambda x: x.zfill(2))\n",
    "df['poss_time'] = df['poss_time_left']+\":\"+df['poss_time_right']\n",
    "df = df.drop(columns = ['poss_time_left', 'poss_time_right'])"
   ]
  },
  {
   "cell_type": "markdown",
   "id": "b0678249",
   "metadata": {},
   "source": [
    "### Dropping the issued values"
   ]
  },
  {
   "cell_type": "code",
   "execution_count": 18,
   "id": "660b3133",
   "metadata": {},
   "outputs": [],
   "source": [
    "years=[i for i in range(2009)]\n",
    "df=df[df.occur_year.isin(years) == False]\n",
    "df['occur_year'] = df['occur_year'].astype('str').str.split(\".\", expand=True)[0]"
   ]
  },
  {
   "cell_type": "markdown",
   "id": "de61ef84",
   "metadata": {},
   "source": [
    "### Data aggregation"
   ]
  },
  {
   "cell_type": "code",
   "execution_count": 19,
   "id": "89eaa6f8",
   "metadata": {},
   "outputs": [],
   "source": [
    "neighborhood_df=df.groupby([\"neighborhood\",\"occur_year\"]).count()['offense_id'].reset_index()\n",
    "neighborhood_df\n",
    "neighborhood_df.columns=neighborhood_df.columns.astype(\"str\")\n",
    "neighborhood_df.columns=['neighborhood', 'occur_year','occur_count']\n",
    "\n",
    "neighborhood_df.to_csv(\"resources/neighborhood_year.csv\",index=False)\n",
    "neighborhood_year_dict=neighborhood_df.to_dict(orient = 'records')"
   ]
  },
  {
   "cell_type": "code",
   "execution_count": 20,
   "id": "5ca3ca42",
   "metadata": {},
   "outputs": [],
   "source": [
    "neighborhood_cat=df.groupby([\"neighborhood\",\"UC2_Literal\",\"occur_year\",\"occur_month\"]).count()['offense_id'].reset_index()\n",
    "neighborhood_cat.occur_year=neighborhood_cat.occur_year.astype(\"str\")\n",
    "\n",
    "neighborhood_cat.columns=['neighborhood', 'crime_type', 'occur_year','occur_month' ,'occur_count']\n",
    "\n",
    "neighborhood_cat.to_csv(\"resources/neighborhood_cat.csv\",index=False)\n",
    "neighborhood_cat_dict=neighborhood_cat.to_dict(orient = 'records')"
   ]
  },
  {
   "cell_type": "code",
   "execution_count": 21,
   "id": "4d9358b2",
   "metadata": {},
   "outputs": [],
   "source": [
    "map_df=df.groupby([\"npu\",\"occur_year\"]).count()['offense_id'].reset_index()\n",
    "map_df.columns=map_df.columns.astype(\"str\")\n",
    "map_df.columns=['npu', 'occur_year','occur_count']\n",
    "\n",
    "map_df.to_csv(\"resources/year_map.csv\",index=False)\n",
    "\n",
    "year_map_dict=map_df.to_dict(orient = 'records')"
   ]
  },
  {
   "cell_type": "code",
   "execution_count": 22,
   "id": "c04a8d5a",
   "metadata": {},
   "outputs": [],
   "source": [
    "year_map_cat=df.groupby([\"npu\",\"UC2_Literal\",\"occur_year\",\"occur_month\"]).count()['offense_id'].reset_index()\n",
    "year_map_cat.occur_year=year_map_cat.occur_year.astype(\"str\")\n",
    "\n",
    "year_map_cat.columns=['npu', 'crime_type', 'occur_year','occur_month' ,'occur_count']\n",
    "year_map_cat.to_csv(\"resources/year_map_cat.csv\",index=False)\n",
    "year_cat_dict=year_map_cat.to_dict(orient = 'records')"
   ]
  },
  {
   "cell_type": "code",
   "execution_count": 23,
   "id": "51854aac",
   "metadata": {},
   "outputs": [],
   "source": [
    "#df.reset_index(inplace=True)\n",
    "#data_dict = df.to_dict(orient = 'records')"
   ]
  },
  {
   "cell_type": "code",
   "execution_count": 24,
   "id": "8edba5aa",
   "metadata": {},
   "outputs": [],
   "source": [
    "import json\n",
    "def jsonify(path='neighborhood_year.json',dict_=neighborhood_year_dict):\n",
    "    with open(path, 'w') as f:\n",
    "        json.dump(dict_, f)"
   ]
  },
  {
   "cell_type": "code",
   "execution_count": 25,
   "id": "b421630f",
   "metadata": {},
   "outputs": [],
   "source": [
    "jsonify(path='neighborhood_year.json',dict_=neighborhood_year_dict)\n",
    "jsonify(path='neighborhood_cat.json',dict_=neighborhood_cat_dict)\n",
    "jsonify(path='year_map.json',dict_=year_map_dict)\n",
    "jsonify(path='year_cat.json',dict_=year_cat_dict)"
   ]
  },
  {
   "cell_type": "markdown",
   "id": "1bfddb0d",
   "metadata": {},
   "source": [
    "## LOCAL DATA LOADING "
   ]
  },
  {
   "cell_type": "code",
   "execution_count": 191,
   "id": "6fdb3de8",
   "metadata": {},
   "outputs": [],
   "source": [
    "client = MongoClient() \n",
    "db=client.crime_db_5"
   ]
  },
  {
   "cell_type": "code",
   "execution_count": 194,
   "id": "64631528",
   "metadata": {},
   "outputs": [],
   "source": [
    "def data_loading(csv):\n",
    "    df=pd.read_csv(csv)\n",
    "    dict_=df.to_dict(orient = 'records')\n",
    "    db.collection.drop()\n",
    "    db.collection.insert_many(dict_)"
   ]
  },
  {
   "cell_type": "code",
   "execution_count": 198,
   "id": "e668cf46",
   "metadata": {},
   "outputs": [],
   "source": [
    "data_loading('resources/year_map.csv')"
   ]
  },
  {
   "cell_type": "code",
   "execution_count": 25,
   "id": "778afcc4",
   "metadata": {},
   "outputs": [],
   "source": [
    "#for original data:df\n",
    "#db.crime_info.drop()\n",
    "#result = db.crime_info.insert_many(data_dict)"
   ]
  },
  {
   "cell_type": "code",
   "execution_count": 187,
   "id": "07d24c25",
   "metadata": {},
   "outputs": [],
   "source": [
    "#for year_map_df\n",
    "db.npu.drop()\n",
    "crime = db.npu \n",
    "result2 = db.npu.insert_many(year_map_dict)"
   ]
  },
  {
   "cell_type": "code",
   "execution_count": 188,
   "id": "6b2b725c",
   "metadata": {},
   "outputs": [],
   "source": [
    "#for cat_map_df\n",
    "db.cat.drop()\n",
    "result3 = db.cat.insert_many(year_cat_dict)"
   ]
  },
  {
   "cell_type": "code",
   "execution_count": 189,
   "id": "fa4986e4",
   "metadata": {},
   "outputs": [],
   "source": [
    "db.cat_neighborhood.drop()\n",
    "result4 = db.cat_neighborhood.insert_many(neighborhood_cat_dict)"
   ]
  },
  {
   "cell_type": "code",
   "execution_count": 190,
   "id": "fae19426",
   "metadata": {},
   "outputs": [],
   "source": [
    "db.year_neighborhood.drop()\n",
    "result4 = db.year_neighborhood.insert_many(neighborhood_year_dict)"
   ]
  },
  {
   "cell_type": "markdown",
   "id": "a3bf5d81",
   "metadata": {},
   "source": [
    "## Loading in sqlite"
   ]
  },
  {
   "cell_type": "code",
   "execution_count": null,
   "id": "94a56e14",
   "metadata": {},
   "outputs": [],
   "source": [
    "neighborhood_year=neighborhood_df.reset_index()\n",
    "neighborhood_year=neighborhood_year.rename(columns = {'index':'neighborhood_id'})\n",
    "neighborhood_categ=neighborhood_cat.reset_index()\n",
    "neighborhood_categ=neighborhood_categ.rename(columns = {'index':'neighborhood_id'})\n",
    "year_map=map_df.reset_index()\n",
    "year_map=year_map.rename(columns = {'index':'npu_id'})\n",
    "year_cat=year_map_cat.reset_index()\n",
    "year_cat=year_cat.rename(columns = {'index':'npu_id'})"
   ]
  },
  {
   "cell_type": "code",
   "execution_count": 124,
   "id": "27176af9",
   "metadata": {},
   "outputs": [
    {
     "data": {
      "text/plain": [
       "Index(['neighborhood_id', 'neighborhood', 'occur_year', 'occur_count'], dtype='object')"
      ]
     },
     "execution_count": 124,
     "metadata": {},
     "output_type": "execute_result"
    }
   ],
   "source": [
    "neighborhood_year.columns\n"
   ]
  },
  {
   "cell_type": "code",
   "execution_count": 125,
   "id": "ae7ba8fb",
   "metadata": {},
   "outputs": [],
   "source": [
    "engine = create_engine('sqlite:///../crime2.sqlite', echo=True)\n",
    "sqlite_connection = engine.connect()"
   ]
  },
  {
   "cell_type": "code",
   "execution_count": 127,
   "id": "b9022b5a",
   "metadata": {},
   "outputs": [],
   "source": [
    "from sqlalchemy import create_engine, Column, Integer, String\n",
    "from sqlalchemy.ext.declarative import declarative_base\n",
    "Base = declarative_base()"
   ]
  },
  {
   "cell_type": "code",
   "execution_count": null,
   "id": "d0887166",
   "metadata": {},
   "outputs": [],
   "source": [
    "class crime(Base):\n",
    "    __tablename__ = 'neighborhood_year'\n",
    "    neighborhood_id = Column(Integer, primary_key=True)\n",
    "    neighborhood = Column(String)\n",
    "    occur_year = Column(String)\n",
    "    occur_count = Column(Integer)"
   ]
  },
  {
   "cell_type": "code",
   "execution_count": 132,
   "id": "52880502",
   "metadata": {},
   "outputs": [
    {
     "name": "stdout",
     "output_type": "stream",
     "text": [
      "2022-04-14 10:06:07,221 INFO sqlalchemy.engine.Engine PRAGMA main.table_info(\"neighborhood_year\")\n",
      "2022-04-14 10:06:07,222 INFO sqlalchemy.engine.Engine [raw sql] ()\n",
      "2022-04-14 10:06:07,223 INFO sqlalchemy.engine.Engine PRAGMA temp.table_info(\"neighborhood_year\")\n",
      "2022-04-14 10:06:07,223 INFO sqlalchemy.engine.Engine [raw sql] ()\n",
      "2022-04-14 10:06:07,225 INFO sqlalchemy.engine.Engine \n",
      "CREATE TABLE neighborhood_year (\n",
      "\tneighborhood_id BIGINT, \n",
      "\tneighborhood TEXT, \n",
      "\toccur_year TEXT, \n",
      "\toccur_count BIGINT\n",
      ")\n",
      "\n",
      "\n",
      "2022-04-14 10:06:07,226 INFO sqlalchemy.engine.Engine [no key 0.00059s] ()\n",
      "2022-04-14 10:06:07,351 INFO sqlalchemy.engine.Engine COMMIT\n",
      "2022-04-14 10:06:07,358 INFO sqlalchemy.engine.Engine BEGIN (implicit)\n",
      "2022-04-14 10:06:07,411 INFO sqlalchemy.engine.Engine INSERT INTO neighborhood_year (neighborhood_id, neighborhood, occur_year, occur_count) VALUES (?, ?, ?, ?)\n",
      "2022-04-14 10:06:07,412 INFO sqlalchemy.engine.Engine [generated in 0.03163s] ((0, 'Adair Park', '2009', 162), (1, 'Adair Park', '2010', 239), (2, 'Adair Park', '2011', 211), (3, 'Adair Park', '2012', 172), (4, 'Adair Park', '2013', 158), (5, 'Adair Park', '2014', 166), (6, 'Adair Park', '2015', 194), (7, 'Adair Park', '2016', 170)  ... displaying 10 of 3290 total bound parameter sets ...  (3288, 'Wyngate', '2021', 2), (3289, 'Wyngate', '2022', 1))\n",
      "2022-04-14 10:06:07,418 INFO sqlalchemy.engine.Engine COMMIT\n"
     ]
    }
   ],
   "source": [
    "neighborhood_year.to_sql(\"neighborhood_year\", sqlite_connection, if_exists='fail', index = False)"
   ]
  },
  {
   "cell_type": "code",
   "execution_count": 133,
   "id": "1c74d7a3",
   "metadata": {},
   "outputs": [
    {
     "name": "stdout",
     "output_type": "stream",
     "text": [
      "2022-04-14 10:06:54,990 INFO sqlalchemy.engine.Engine PRAGMA main.table_xinfo(\"neighborhood_year\")\n",
      "2022-04-14 10:06:54,990 INFO sqlalchemy.engine.Engine [raw sql] ()\n",
      "neighborhood_id BIGINT\n",
      "neighborhood TEXT\n",
      "occur_year TEXT\n",
      "occur_count BIGINT\n"
     ]
    }
   ],
   "source": [
    "inspector = inspect(engine)\n",
    "columns = inspector.get_columns('neighborhood_year')\n",
    "for c in columns:\n",
    "    print(c['name'], c[\"type\"])"
   ]
  },
  {
   "cell_type": "code",
   "execution_count": 69,
   "id": "579d6b7c",
   "metadata": {},
   "outputs": [
    {
     "name": "stdout",
     "output_type": "stream",
     "text": [
      "2022-04-13 21:28:07,847 INFO sqlalchemy.engine.Engine PRAGMA main.table_info(\"npu\")\n",
      "2022-04-13 21:28:07,847 INFO sqlalchemy.engine.Engine [raw sql] ()\n",
      "2022-04-13 21:28:07,848 INFO sqlalchemy.engine.Engine PRAGMA temp.table_info(\"npu\")\n",
      "2022-04-13 21:28:07,849 INFO sqlalchemy.engine.Engine [raw sql] ()\n",
      "2022-04-13 21:28:07,851 INFO sqlalchemy.engine.Engine \n",
      "CREATE TABLE npu (\n",
      "\t\"index\" BIGINT, \n",
      "\tnpu TEXT, \n",
      "\toccur_year TEXT, \n",
      "\toccur_count BIGINT\n",
      ")\n",
      "\n",
      "\n",
      "2022-04-13 21:28:07,851 INFO sqlalchemy.engine.Engine [no key 0.00038s] ()\n",
      "2022-04-13 21:28:07,979 INFO sqlalchemy.engine.Engine COMMIT\n",
      "2022-04-13 21:28:07,983 INFO sqlalchemy.engine.Engine CREATE INDEX ix_npu_index ON npu (\"index\")\n",
      "2022-04-13 21:28:07,985 INFO sqlalchemy.engine.Engine [no key 0.00198s] ()\n",
      "2022-04-13 21:28:08,112 INFO sqlalchemy.engine.Engine COMMIT\n",
      "2022-04-13 21:28:08,113 INFO sqlalchemy.engine.Engine BEGIN (implicit)\n",
      "2022-04-13 21:28:08,116 INFO sqlalchemy.engine.Engine INSERT INTO npu (\"index\", npu, occur_year, occur_count) VALUES (?, ?, ?, ?)\n",
      "2022-04-13 21:28:08,117 INFO sqlalchemy.engine.Engine [generated in 0.00233s] ((0, 'A', '2009', 282), (1, 'A', '2010', 266), (2, 'A', '2011', 241), (3, 'A', '2012', 275), (4, 'A', '2013', 335), (5, 'A', '2014', 248), (6, 'A', '2015', 237), (7, 'A', '2016', 264)  ... displaying 10 of 350 total bound parameter sets ...  (348, 'Z', '2021', 652), (349, 'Z', '2022', 150))\n",
      "2022-04-13 21:28:08,119 INFO sqlalchemy.engine.Engine COMMIT\n"
     ]
    }
   ],
   "source": [
    "map_df.to_sql(\"npu\", sqlite_connection, if_exists='fail')"
   ]
  },
  {
   "cell_type": "code",
   "execution_count": 70,
   "id": "37788dac",
   "metadata": {},
   "outputs": [
    {
     "name": "stdout",
     "output_type": "stream",
     "text": [
      "2022-04-13 21:28:08,271 INFO sqlalchemy.engine.Engine PRAGMA main.table_info(\"cat\")\n",
      "2022-04-13 21:28:08,272 INFO sqlalchemy.engine.Engine [raw sql] ()\n",
      "2022-04-13 21:28:08,273 INFO sqlalchemy.engine.Engine PRAGMA temp.table_info(\"cat\")\n",
      "2022-04-13 21:28:08,274 INFO sqlalchemy.engine.Engine [raw sql] ()\n",
      "2022-04-13 21:28:08,275 INFO sqlalchemy.engine.Engine \n",
      "CREATE TABLE cat (\n",
      "\t\"index\" BIGINT, \n",
      "\tnpu TEXT, \n",
      "\tcrime_type TEXT, \n",
      "\toccur_year TEXT, \n",
      "\toccur_month TEXT, \n",
      "\toccur_count BIGINT\n",
      ")\n",
      "\n",
      "\n",
      "2022-04-13 21:28:08,275 INFO sqlalchemy.engine.Engine [no key 0.00040s] ()\n",
      "2022-04-13 21:28:08,379 INFO sqlalchemy.engine.Engine COMMIT\n",
      "2022-04-13 21:28:08,380 INFO sqlalchemy.engine.Engine CREATE INDEX ix_cat_index ON cat (\"index\")\n",
      "2022-04-13 21:28:08,381 INFO sqlalchemy.engine.Engine [no key 0.00075s] ()\n",
      "2022-04-13 21:28:08,504 INFO sqlalchemy.engine.Engine COMMIT\n",
      "2022-04-13 21:28:08,513 INFO sqlalchemy.engine.Engine BEGIN (implicit)\n",
      "2022-04-13 21:28:08,720 INFO sqlalchemy.engine.Engine INSERT INTO cat (\"index\", npu, crime_type, occur_year, occur_month, occur_count) VALUES (?, ?, ?, ?, ?, ?)\n",
      "2022-04-13 21:28:08,721 INFO sqlalchemy.engine.Engine [generated in 0.18003s] ((0, 'A', 'AGG ASSAULT', '2009', 'April', 1), (1, 'A', 'AGG ASSAULT', '2009', 'August', 2), (2, 'A', 'AGG ASSAULT', '2009', 'July', 1), (3, 'A', 'AGG ASSAULT', '2010', 'August', 2), (4, 'A', 'AGG ASSAULT', '2010', 'July', 1), (5, 'A', 'AGG ASSAULT', '2010', 'September', 1), (6, 'A', 'AGG ASSAULT', '2011', 'December', 1), (7, 'A', 'AGG ASSAULT', '2011', 'February', 1)  ... displaying 10 of 28721 total bound parameter sets ...  (28719, 'Z', 'ROBBERY-RESIDENCE', '2019', 'May', 1), (28720, 'Z', 'ROBBERY-RESIDENCE', '2019', 'October', 3))\n",
      "2022-04-13 21:28:08,790 INFO sqlalchemy.engine.Engine COMMIT\n"
     ]
    }
   ],
   "source": [
    "year_map_cat.to_sql(\"cat\", sqlite_connection, if_exists='fail')"
   ]
  },
  {
   "cell_type": "code",
   "execution_count": 71,
   "id": "b25aaade",
   "metadata": {},
   "outputs": [
    {
     "name": "stdout",
     "output_type": "stream",
     "text": [
      "2022-04-13 21:28:08,957 INFO sqlalchemy.engine.Engine PRAGMA main.table_info(\"cat_neighborhood\")\n",
      "2022-04-13 21:28:08,957 INFO sqlalchemy.engine.Engine [raw sql] ()\n",
      "2022-04-13 21:28:08,958 INFO sqlalchemy.engine.Engine PRAGMA temp.table_info(\"cat_neighborhood\")\n",
      "2022-04-13 21:28:08,959 INFO sqlalchemy.engine.Engine [raw sql] ()\n",
      "2022-04-13 21:28:08,960 INFO sqlalchemy.engine.Engine \n",
      "CREATE TABLE cat_neighborhood (\n",
      "\t\"index\" BIGINT, \n",
      "\tneighborhood TEXT, \n",
      "\tcrime_type TEXT, \n",
      "\toccur_year TEXT, \n",
      "\toccur_month TEXT, \n",
      "\toccur_count BIGINT\n",
      ")\n",
      "\n",
      "\n",
      "2022-04-13 21:28:08,961 INFO sqlalchemy.engine.Engine [no key 0.00067s] ()\n",
      "2022-04-13 21:28:09,087 INFO sqlalchemy.engine.Engine COMMIT\n",
      "2022-04-13 21:28:09,090 INFO sqlalchemy.engine.Engine CREATE INDEX ix_cat_neighborhood_index ON cat_neighborhood (\"index\")\n",
      "2022-04-13 21:28:09,091 INFO sqlalchemy.engine.Engine [no key 0.00142s] ()\n",
      "2022-04-13 21:28:09,221 INFO sqlalchemy.engine.Engine COMMIT\n",
      "2022-04-13 21:28:09,257 INFO sqlalchemy.engine.Engine BEGIN (implicit)\n",
      "2022-04-13 21:28:10,009 INFO sqlalchemy.engine.Engine INSERT INTO cat_neighborhood (\"index\", neighborhood, crime_type, occur_year, occur_month, occur_count) VALUES (?, ?, ?, ?, ?, ?)\n",
      "2022-04-13 21:28:10,010 INFO sqlalchemy.engine.Engine [generated in 0.68372s] ((0, 'Adair Park', 'AGG ASSAULT', '2009', 'April', 3), (1, 'Adair Park', 'AGG ASSAULT', '2009', 'August', 1), (2, 'Adair Park', 'AGG ASSAULT', '2009', 'December', 2), (3, 'Adair Park', 'AGG ASSAULT', '2009', 'February', 3), (4, 'Adair Park', 'AGG ASSAULT', '2009', 'July', 1), (5, 'Adair Park', 'AGG ASSAULT', '2009', 'June', 3), (6, 'Adair Park', 'AGG ASSAULT', '2009', 'May', 1), (7, 'Adair Park', 'AGG ASSAULT', '2009', 'September', 1)  ... displaying 10 of 105842 total bound parameter sets ...  (105840, 'Wyngate', 'LARCENY-NON VEHICLE', '2020', 'September', 1), (105841, 'Wyngate', 'ROBBERY-PEDESTRIAN', '2014', 'August', 1))\n",
      "2022-04-13 21:28:10,411 INFO sqlalchemy.engine.Engine COMMIT\n"
     ]
    }
   ],
   "source": [
    "neighborhood_cat.to_sql(\"cat_neighborhood\", sqlite_connection, if_exists='fail')"
   ]
  },
  {
   "cell_type": "code",
   "execution_count": 72,
   "id": "37d8246c",
   "metadata": {},
   "outputs": [],
   "source": [
    "sqlite_connection.close()\n"
   ]
  },
  {
   "cell_type": "code",
   "execution_count": 85,
   "id": "c032bbe2",
   "metadata": {},
   "outputs": [],
   "source": [
    "engine = create_engine(\"sqlite:///../crime.sqlite\", echo=False) "
   ]
  },
  {
   "cell_type": "code",
   "execution_count": 74,
   "id": "cc8b5a04",
   "metadata": {},
   "outputs": [
    {
     "data": {
      "text/plain": [
       "['cat', 'cat_neighborhood', 'npu', 'year_neighborhood']"
      ]
     },
     "execution_count": 74,
     "metadata": {},
     "output_type": "execute_result"
    }
   ],
   "source": [
    "from sqlalchemy import create_engine, inspect, func\n",
    "inspector = inspect(engine)\n",
    "inspector.get_table_names()"
   ]
  },
  {
   "cell_type": "code",
   "execution_count": 122,
   "id": "f573b016",
   "metadata": {},
   "outputs": [
    {
     "name": "stdout",
     "output_type": "stream",
     "text": [
      "2022-04-14 09:47:35,353 INFO sqlalchemy.engine.Engine SELECT * FROM year_neighborhood LIMIT 10\n",
      "2022-04-14 09:47:35,354 INFO sqlalchemy.engine.Engine [raw sql] ()\n"
     ]
    },
    {
     "data": {
      "text/plain": [
       "[('Adair Park', '2009', 162),\n",
       " ('Adair Park', '2010', 239),\n",
       " ('Adair Park', '2011', 211),\n",
       " ('Adair Park', '2012', 172),\n",
       " ('Adair Park', '2013', 158),\n",
       " ('Adair Park', '2014', 166),\n",
       " ('Adair Park', '2015', 194),\n",
       " ('Adair Park', '2016', 170),\n",
       " ('Adair Park', '2017', 169),\n",
       " ('Adair Park', '2018', 197)]"
      ]
     },
     "execution_count": 122,
     "metadata": {},
     "output_type": "execute_result"
    }
   ],
   "source": [
    "engine.execute('SELECT * FROM year_neighborhood LIMIT 10').fetchall()"
   ]
  },
  {
   "cell_type": "code",
   "execution_count": 123,
   "id": "0358a785",
   "metadata": {},
   "outputs": [
    {
     "name": "stdout",
     "output_type": "stream",
     "text": [
      "2022-04-14 09:47:47,987 INFO sqlalchemy.engine.Engine PRAGMA main.table_xinfo(\"cat\")\n",
      "2022-04-14 09:47:47,988 INFO sqlalchemy.engine.Engine [raw sql] ()\n",
      "2022-04-14 09:47:47,988 INFO sqlalchemy.engine.Engine PRAGMA temp.table_xinfo(\"cat\")\n",
      "2022-04-14 09:47:47,989 INFO sqlalchemy.engine.Engine [raw sql] ()\n"
     ]
    }
   ],
   "source": [
    "inspector = inspect(engine)\n",
    "columns = inspector.get_columns('cat')\n",
    "for c in columns:\n",
    "    print(c['name'], c[\"type\"])"
   ]
  },
  {
   "cell_type": "code",
   "execution_count": 93,
   "id": "9bee0fd5",
   "metadata": {},
   "outputs": [
    {
     "data": {
      "text/plain": [
       "[{'name': 'index',\n",
       "  'type': BIGINT(),\n",
       "  'nullable': True,\n",
       "  'default': None,\n",
       "  'autoincrement': 'auto',\n",
       "  'primary_key': 0},\n",
       " {'name': 'npu',\n",
       "  'type': TEXT(),\n",
       "  'nullable': True,\n",
       "  'default': None,\n",
       "  'autoincrement': 'auto',\n",
       "  'primary_key': 0},\n",
       " {'name': 'occur_year',\n",
       "  'type': TEXT(),\n",
       "  'nullable': True,\n",
       "  'default': None,\n",
       "  'autoincrement': 'auto',\n",
       "  'primary_key': 0},\n",
       " {'name': 'occur_count',\n",
       "  'type': BIGINT(),\n",
       "  'nullable': True,\n",
       "  'default': None,\n",
       "  'autoincrement': 'auto',\n",
       "  'primary_key': 0}]"
      ]
     },
     "execution_count": 93,
     "metadata": {},
     "output_type": "execute_result"
    }
   ],
   "source": [
    "inspector.get_columns('npu')"
   ]
  },
  {
   "cell_type": "code",
   "execution_count": 76,
   "id": "51878cdb",
   "metadata": {},
   "outputs": [],
   "source": [
    "sqlite_connection.close()"
   ]
  },
  {
   "cell_type": "code",
   "execution_count": 88,
   "id": "8e4649ae",
   "metadata": {},
   "outputs": [
    {
     "data": {
      "text/plain": [
       "['cat', 'cat_neighborhood', 'npu', 'year_neighborhood']"
      ]
     },
     "execution_count": 88,
     "metadata": {},
     "output_type": "execute_result"
    }
   ],
   "source": [
    "inspector = inspect(engine)\n",
    "inspector.get_table_names()"
   ]
  },
  {
   "cell_type": "code",
   "execution_count": null,
   "id": "9941fe11",
   "metadata": {},
   "outputs": [],
   "source": []
  }
 ],
 "metadata": {
  "kernelspec": {
   "display_name": "Python 3",
   "language": "python",
   "name": "python3"
  },
  "language_info": {
   "codemirror_mode": {
    "name": "ipython",
    "version": 3
   },
   "file_extension": ".py",
   "mimetype": "text/x-python",
   "name": "python",
   "nbconvert_exporter": "python",
   "pygments_lexer": "ipython3",
   "version": "3.7.6"
  }
 },
 "nbformat": 4,
 "nbformat_minor": 5
}

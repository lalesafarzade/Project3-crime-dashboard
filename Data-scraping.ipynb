{
 "cells": [
  {
   "cell_type": "code",
   "execution_count": 18,
   "id": "c036c51b",
   "metadata": {},
   "outputs": [],
   "source": [
    "from splinter import Browser\n",
    "from bs4 import BeautifulSoup\n",
    "from webdriver_manager.chrome import ChromeDriverManager\n",
    "import pandas as pd\n",
    "import ssl\n",
    "import certifi\n",
    "from urllib import request as req\n",
    "\n",
    "import requests"
   ]
  },
  {
   "cell_type": "code",
   "execution_count": 13,
   "id": "aa35bcbd",
   "metadata": {},
   "outputs": [],
   "source": [
    "cd "
   ]
  },
  {
   "cell_type": "code",
   "execution_count": 19,
   "id": "c0354160",
   "metadata": {},
   "outputs": [],
   "source": [
    "def data_scraper(url,html_part='div',id='widget_362_0_197'):\n",
    "    response = requests.get(url)\n",
    "    soup = BeautifulSoup(response.text, 'html.parser')\n",
    "    soup = BeautifulSoup(html, 'html.parser')\n",
    "    quotes = soup.find_all(html_part, id=id)  \n",
    "    lis=quotes[0].find_all('li')\n",
    "    Download_url=[]\n",
    "    for li in lis:\n",
    "        link=li.find(\"a\")\n",
    "        href=link[\"href\"]\n",
    "        Download_url.append(\"https://www.atlantapd.org\"+href)\n",
    "        for i in range(len(Download_url)):\n",
    "            try:\n",
    "                local_file = f'Resources/cobra{i}.zip'\n",
    "                req.urlretrieve(Download_url[i], local_file)\n",
    "            except:\n",
    "                print(\"something is wrong :( \")\n",
    "                \n",
    "    return Download_url"
   ]
  },
  {
   "cell_type": "code",
   "execution_count": 20,
   "id": "0438ea70",
   "metadata": {},
   "outputs": [],
   "source": [
    "Download_url=data_scraper('https://www.atlantapd.org/i-want-to/crime-data-downloads')"
   ]
  },
  {
   "cell_type": "code",
   "execution_count": 21,
   "id": "1adf9228",
   "metadata": {},
   "outputs": [
    {
     "data": {
      "text/plain": [
       "['https://www.atlantapd.org/home/showpublisheddocument/4730/637843168152670000',\n",
       " 'https://www.atlantapd.org/home/showpublisheddocument/4576/637770569750770000',\n",
       " 'https://www.atlantapd.org/home/showpublisheddocument/3705/637460445573930000',\n",
       " 'https://www.atlantapd.org/home/showpublisheddocument/3587/637418951324270000',\n",
       " 'https://www.atlantapd.org/home/showpublisheddocument/3051/637141450644130000']"
      ]
     },
     "execution_count": 21,
     "metadata": {},
     "output_type": "execute_result"
    }
   ],
   "source": [
    "Download_url"
   ]
  }
 ],
 "metadata": {
  "kernelspec": {
   "display_name": "Python 3",
   "language": "python",
   "name": "python3"
  },
  "language_info": {
   "codemirror_mode": {
    "name": "ipython",
    "version": 3
   },
   "file_extension": ".py",
   "mimetype": "text/x-python",
   "name": "python",
   "nbconvert_exporter": "python",
   "pygments_lexer": "ipython3",
   "version": "3.7.6"
  }
 },
 "nbformat": 4,
 "nbformat_minor": 5
}
